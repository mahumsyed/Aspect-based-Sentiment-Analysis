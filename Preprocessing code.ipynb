{
 "cells": [
  {
   "cell_type": "code",
   "execution_count": 23,
   "metadata": {},
   "outputs": [],
   "source": [
    "import pandas as pd\n",
    "import numpy as np\n",
    "import nltk\n",
    "import re\n",
    "import textblob \n",
    "import enchant\n",
    "import string\n",
    "from nltk.tokenize import word_tokenize\n",
    "from nltk import pos_tag\n",
    "from spellchecker import SpellChecker\n",
    "from nltk.corpus import stopwords\n",
    "from textblob import TextBlob\n",
    "from googletrans import Translator\n",
    "from nltk.stem import WordNetLemmatizer\n",
    "from sklearn.preprocessing import LabelEncoder\n",
    "from collections import defaultdict\n",
    "from nltk.corpus import wordnet as wn\n",
    "from sklearn.feature_extraction.text import TfidfVectorizer\n",
    "from sklearn import model_selection, naive_bayes, svm\n",
    "from sklearn.metrics import accuracy_score\n",
    "import time"
   ]
  },
  {
   "cell_type": "code",
   "execution_count": 24,
   "metadata": {},
   "outputs": [],
   "source": [
    "np.random.seed(500)"
   ]
  },
  {
   "cell_type": "code",
   "execution_count": 25,
   "metadata": {},
   "outputs": [],
   "source": [
    "dictionary=enchant.Dict(\"en_US\")\n",
    "translator=Translator()\n",
    "lemmatizer=WordNetLemmatizer()\n",
    "spell=SpellChecker()"
   ]
  },
  {
   "cell_type": "code",
   "execution_count": 26,
   "metadata": {},
   "outputs": [],
   "source": [
    "import sys"
   ]
  },
  {
   "cell_type": "code",
   "execution_count": 27,
   "metadata": {},
   "outputs": [
    {
     "name": "stderr",
     "output_type": "stream",
     "text": [
      "[nltk_data] Downloading package punkt to\n",
      "[nltk_data]     C:\\Users\\Dell\\AppData\\Roaming\\nltk_data...\n",
      "[nltk_data]   Package punkt is already up-to-date!\n",
      "[nltk_data] Downloading package stopwords to\n",
      "[nltk_data]     C:\\Users\\Dell\\AppData\\Roaming\\nltk_data...\n",
      "[nltk_data]   Package stopwords is already up-to-date!\n",
      "[nltk_data] Downloading package wordnet to\n",
      "[nltk_data]     C:\\Users\\Dell\\AppData\\Roaming\\nltk_data...\n",
      "[nltk_data]   Package wordnet is already up-to-date!\n",
      "[nltk_data] Downloading package averaged_perceptron_tagger to\n",
      "[nltk_data]     C:\\Users\\Dell\\AppData\\Roaming\\nltk_data...\n",
      "[nltk_data]   Package averaged_perceptron_tagger is already up-to-\n",
      "[nltk_data]       date!\n"
     ]
    },
    {
     "data": {
      "text/plain": [
       "True"
      ]
     },
     "execution_count": 27,
     "metadata": {},
     "output_type": "execute_result"
    }
   ],
   "source": [
    "nltk.download('punkt')\n",
    "nltk.download('stopwords')\n",
    "nltk.download('wordnet')\n",
    "nltk.download('averaged_perceptron_tagger')"
   ]
  },
  {
   "cell_type": "code",
   "execution_count": 28,
   "metadata": {},
   "outputs": [],
   "source": [
    "Corpus = pd.read_csv(r\"C:\\Users\\Dell\\Desktop\\Dataset.csv\",encoding='latin-1')"
   ]
  },
  {
   "cell_type": "code",
   "execution_count": 29,
   "metadata": {},
   "outputs": [],
   "source": [
    "dataset=Corpus.copy()"
   ]
  },
  {
   "cell_type": "code",
   "execution_count": 30,
   "metadata": {},
   "outputs": [
    {
     "data": {
      "text/html": [
       "<div>\n",
       "<style scoped>\n",
       "    .dataframe tbody tr th:only-of-type {\n",
       "        vertical-align: middle;\n",
       "    }\n",
       "\n",
       "    .dataframe tbody tr th {\n",
       "        vertical-align: top;\n",
       "    }\n",
       "\n",
       "    .dataframe thead th {\n",
       "        text-align: right;\n",
       "    }\n",
       "</style>\n",
       "<table border=\"1\" class=\"dataframe\">\n",
       "  <thead>\n",
       "    <tr style=\"text-align: right;\">\n",
       "      <th></th>\n",
       "      <th>Reviews</th>\n",
       "      <th>Label</th>\n",
       "    </tr>\n",
       "  </thead>\n",
       "  <tbody>\n",
       "    <tr>\n",
       "      <th>0</th>\n",
       "      <td>build quality towards their performance runnin...</td>\n",
       "      <td>-1</td>\n",
       "    </tr>\n",
       "    <tr>\n",
       "      <th>1</th>\n",
       "      <td>I wouldn't recommend it. the speaker performa...</td>\n",
       "      <td>0</td>\n",
       "    </tr>\n",
       "    <tr>\n",
       "      <th>2</th>\n",
       "      <td>takes good performance images. I am very happy</td>\n",
       "      <td>1</td>\n",
       "    </tr>\n",
       "    <tr>\n",
       "      <th>3</th>\n",
       "      <td>it can take high performance pictures</td>\n",
       "      <td>1</td>\n",
       "    </tr>\n",
       "    <tr>\n",
       "      <th>4</th>\n",
       "      <td>it has to do with the high performance</td>\n",
       "      <td>1</td>\n",
       "    </tr>\n",
       "  </tbody>\n",
       "</table>\n",
       "</div>"
      ],
      "text/plain": [
       "                                             Reviews  Label\n",
       "0  build quality towards their performance runnin...     -1\n",
       "1   I wouldn't recommend it. the speaker performa...      0\n",
       "2     takes good performance images. I am very happy      1\n",
       "3             it can take high performance pictures       1\n",
       "4             it has to do with the high performance      1"
      ]
     },
     "execution_count": 30,
     "metadata": {},
     "output_type": "execute_result"
    }
   ],
   "source": [
    "dataset.head()"
   ]
  },
  {
   "cell_type": "code",
   "execution_count": 31,
   "metadata": {},
   "outputs": [],
   "source": [
    "printable = set(string.printable)\n",
    "dataset['cleantext'] = Corpus['Reviews'].apply(lambda row: ''.join(filter(lambda x:x in printable,row)))"
   ]
  },
  {
   "cell_type": "code",
   "execution_count": 32,
   "metadata": {},
   "outputs": [],
   "source": [
    "dataset['cleantext']= [word_tokenize(entry) for entry in dataset['cleantext']]"
   ]
  },
  {
   "cell_type": "code",
   "execution_count": 33,
   "metadata": {},
   "outputs": [],
   "source": [
    "dataset['cleantext']= [pos_tag(entry) for entry in dataset['cleantext']]"
   ]
  },
  {
   "cell_type": "code",
   "execution_count": 34,
   "metadata": {},
   "outputs": [],
   "source": [
    "REPLACE = re.compile('[.;:!\\'$?,\\\"()\\[\\]]')"
   ]
  },
  {
   "cell_type": "code",
   "execution_count": 35,
   "metadata": {},
   "outputs": [
    {
     "data": {
      "text/html": [
       "<div>\n",
       "<style scoped>\n",
       "    .dataframe tbody tr th:only-of-type {\n",
       "        vertical-align: middle;\n",
       "    }\n",
       "\n",
       "    .dataframe tbody tr th {\n",
       "        vertical-align: top;\n",
       "    }\n",
       "\n",
       "    .dataframe thead th {\n",
       "        text-align: right;\n",
       "    }\n",
       "</style>\n",
       "<table border=\"1\" class=\"dataframe\">\n",
       "  <thead>\n",
       "    <tr style=\"text-align: right;\">\n",
       "      <th></th>\n",
       "      <th>Reviews</th>\n",
       "      <th>Label</th>\n",
       "      <th>cleantext</th>\n",
       "    </tr>\n",
       "  </thead>\n",
       "  <tbody>\n",
       "    <tr>\n",
       "      <th>0</th>\n",
       "      <td>build quality towards their performance runnin...</td>\n",
       "      <td>-1</td>\n",
       "      <td>[(build, JJ), (quality, NN), (towards, NNS), (...</td>\n",
       "    </tr>\n",
       "    <tr>\n",
       "      <th>1</th>\n",
       "      <td>I wouldn't recommend it. the speaker performa...</td>\n",
       "      <td>0</td>\n",
       "      <td>[(I, PRP), (would, MD), (n't, RB), (recommend,...</td>\n",
       "    </tr>\n",
       "    <tr>\n",
       "      <th>2</th>\n",
       "      <td>takes good performance images. I am very happy</td>\n",
       "      <td>1</td>\n",
       "      <td>[(takes, VBZ), (good, JJ), (performance, NN), ...</td>\n",
       "    </tr>\n",
       "    <tr>\n",
       "      <th>3</th>\n",
       "      <td>it can take high performance pictures</td>\n",
       "      <td>1</td>\n",
       "      <td>[(it, PRP), (can, MD), (take, VB), (high, JJ),...</td>\n",
       "    </tr>\n",
       "    <tr>\n",
       "      <th>4</th>\n",
       "      <td>it has to do with the high performance</td>\n",
       "      <td>1</td>\n",
       "      <td>[(it, PRP), (has, VBZ), (to, TO), (do, VB), (w...</td>\n",
       "    </tr>\n",
       "  </tbody>\n",
       "</table>\n",
       "</div>"
      ],
      "text/plain": [
       "                                             Reviews  Label  \\\n",
       "0  build quality towards their performance runnin...     -1   \n",
       "1   I wouldn't recommend it. the speaker performa...      0   \n",
       "2     takes good performance images. I am very happy      1   \n",
       "3             it can take high performance pictures       1   \n",
       "4             it has to do with the high performance      1   \n",
       "\n",
       "                                           cleantext  \n",
       "0  [(build, JJ), (quality, NN), (towards, NNS), (...  \n",
       "1  [(I, PRP), (would, MD), (n't, RB), (recommend,...  \n",
       "2  [(takes, VBZ), (good, JJ), (performance, NN), ...  \n",
       "3  [(it, PRP), (can, MD), (take, VB), (high, JJ),...  \n",
       "4  [(it, PRP), (has, VBZ), (to, TO), (do, VB), (w...  "
      ]
     },
     "execution_count": 35,
     "metadata": {},
     "output_type": "execute_result"
    }
   ],
   "source": [
    "dataset.head()"
   ]
  },
  {
   "cell_type": "code",
   "execution_count": 36,
   "metadata": {},
   "outputs": [],
   "source": [
    "def pre_process(Reviews):\n",
    "    # lowercase\n",
    "    Reviews = Reviews.lower()\n",
    "    # tags\n",
    "    Reviews = re.sub('&lt;/?.*?&gt;',' &lt;&gt; ',Reviews)\n",
    "    # special characters and digits\n",
    "    Reviews=re.sub('(\\\\d|\\\\W)+',' ',Reviews)\n",
    "    # remove punctuation\n",
    "    Reviews = re.sub('[.;:!\\'?,\\\"()\\[\\]]', '', Reviews)\n",
    "    #Reviews = [REPLACE.sub('', line) for line in Reviews]\n",
    "    \n",
    "    return Reviews\n",
    "\n",
    "dataset['cleantext'] = Corpus['Reviews'].apply(lambda x:pre_process(x))"
   ]
  },
  {
   "cell_type": "code",
   "execution_count": 37,
   "metadata": {},
   "outputs": [
    {
     "data": {
      "text/html": [
       "<div>\n",
       "<style scoped>\n",
       "    .dataframe tbody tr th:only-of-type {\n",
       "        vertical-align: middle;\n",
       "    }\n",
       "\n",
       "    .dataframe tbody tr th {\n",
       "        vertical-align: top;\n",
       "    }\n",
       "\n",
       "    .dataframe thead th {\n",
       "        text-align: right;\n",
       "    }\n",
       "</style>\n",
       "<table border=\"1\" class=\"dataframe\">\n",
       "  <thead>\n",
       "    <tr style=\"text-align: right;\">\n",
       "      <th></th>\n",
       "      <th>Reviews</th>\n",
       "      <th>Label</th>\n",
       "      <th>cleantext</th>\n",
       "    </tr>\n",
       "  </thead>\n",
       "  <tbody>\n",
       "    <tr>\n",
       "      <th>0</th>\n",
       "      <td>build quality towards their performance runnin...</td>\n",
       "      <td>-1</td>\n",
       "      <td>build quality towards their performance runnin...</td>\n",
       "    </tr>\n",
       "    <tr>\n",
       "      <th>1</th>\n",
       "      <td>I wouldn't recommend it. the speaker performa...</td>\n",
       "      <td>0</td>\n",
       "      <td>i wouldn t recommend it the speaker performan...</td>\n",
       "    </tr>\n",
       "    <tr>\n",
       "      <th>2</th>\n",
       "      <td>takes good performance images. I am very happy</td>\n",
       "      <td>1</td>\n",
       "      <td>takes good performance images i am very happy</td>\n",
       "    </tr>\n",
       "    <tr>\n",
       "      <th>3</th>\n",
       "      <td>it can take high performance pictures</td>\n",
       "      <td>1</td>\n",
       "      <td>it can take high performance pictures</td>\n",
       "    </tr>\n",
       "    <tr>\n",
       "      <th>4</th>\n",
       "      <td>it has to do with the high performance</td>\n",
       "      <td>1</td>\n",
       "      <td>it has to do with the high performance</td>\n",
       "    </tr>\n",
       "  </tbody>\n",
       "</table>\n",
       "</div>"
      ],
      "text/plain": [
       "                                             Reviews  Label  \\\n",
       "0  build quality towards their performance runnin...     -1   \n",
       "1   I wouldn't recommend it. the speaker performa...      0   \n",
       "2     takes good performance images. I am very happy      1   \n",
       "3             it can take high performance pictures       1   \n",
       "4             it has to do with the high performance      1   \n",
       "\n",
       "                                           cleantext  \n",
       "0  build quality towards their performance runnin...  \n",
       "1   i wouldn t recommend it the speaker performan...  \n",
       "2      takes good performance images i am very happy  \n",
       "3             it can take high performance pictures   \n",
       "4             it has to do with the high performance  "
      ]
     },
     "execution_count": 37,
     "metadata": {},
     "output_type": "execute_result"
    }
   ],
   "source": [
    "  dataset.head()"
   ]
  },
  {
   "cell_type": "code",
   "execution_count": 38,
   "metadata": {},
   "outputs": [
    {
     "data": {
      "text/html": [
       "<div>\n",
       "<style scoped>\n",
       "    .dataframe tbody tr th:only-of-type {\n",
       "        vertical-align: middle;\n",
       "    }\n",
       "\n",
       "    .dataframe tbody tr th {\n",
       "        vertical-align: top;\n",
       "    }\n",
       "\n",
       "    .dataframe thead th {\n",
       "        text-align: right;\n",
       "    }\n",
       "</style>\n",
       "<table border=\"1\" class=\"dataframe\">\n",
       "  <thead>\n",
       "    <tr style=\"text-align: right;\">\n",
       "      <th></th>\n",
       "      <th>Reviews</th>\n",
       "      <th>Label</th>\n",
       "      <th>cleantext</th>\n",
       "    </tr>\n",
       "  </thead>\n",
       "  <tbody>\n",
       "    <tr>\n",
       "      <th>0</th>\n",
       "      <td>build quality towards their performance runnin...</td>\n",
       "      <td>-1</td>\n",
       "      <td>build quality towards their performance runnin...</td>\n",
       "    </tr>\n",
       "    <tr>\n",
       "      <th>1</th>\n",
       "      <td>I wouldn't recommend it. the speaker performa...</td>\n",
       "      <td>0</td>\n",
       "      <td>i wouldn t recommend it the speaker performan...</td>\n",
       "    </tr>\n",
       "    <tr>\n",
       "      <th>2</th>\n",
       "      <td>takes good performance images. I am very happy</td>\n",
       "      <td>1</td>\n",
       "      <td>takes good performance images i am very happy</td>\n",
       "    </tr>\n",
       "    <tr>\n",
       "      <th>3</th>\n",
       "      <td>it can take high performance pictures</td>\n",
       "      <td>1</td>\n",
       "      <td>it can take high performance pictures</td>\n",
       "    </tr>\n",
       "    <tr>\n",
       "      <th>4</th>\n",
       "      <td>it has to do with the high performance</td>\n",
       "      <td>1</td>\n",
       "      <td>it has to do with the high performance</td>\n",
       "    </tr>\n",
       "  </tbody>\n",
       "</table>\n",
       "</div>"
      ],
      "text/plain": [
       "                                             Reviews  Label  \\\n",
       "0  build quality towards their performance runnin...     -1   \n",
       "1   I wouldn't recommend it. the speaker performa...      0   \n",
       "2     takes good performance images. I am very happy      1   \n",
       "3             it can take high performance pictures       1   \n",
       "4             it has to do with the high performance      1   \n",
       "\n",
       "                                           cleantext  \n",
       "0  build quality towards their performance runnin...  \n",
       "1   i wouldn t recommend it the speaker performan...  \n",
       "2      takes good performance images i am very happy  \n",
       "3             it can take high performance pictures   \n",
       "4             it has to do with the high performance  "
      ]
     },
     "execution_count": 38,
     "metadata": {},
     "output_type": "execute_result"
    }
   ],
   "source": [
    "dataset.head()"
   ]
  },
  {
   "cell_type": "code",
   "execution_count": 39,
   "metadata": {},
   "outputs": [],
   "source": [
    "from nltk.corpus import stopwords\n"
   ]
  },
  {
   "cell_type": "code",
   "execution_count": 40,
   "metadata": {},
   "outputs": [],
   "source": [
    "english_stop_words = stopwords.words('english')\n",
    "#english_stop_words = ENGLISH_STOP_WORDS\n",
    "def remove_stop_words(corpus):\n",
    "    removed_stop_words = []\n",
    "    for review in corpus:\n",
    "        removed_stop_words.append(\n",
    "            ' '.join([word for word in review.split() \n",
    "                      if word not in english_stop_words]) \n",
    "        )\n",
    "    return removed_stop_words\n",
    "\n",
    "dataset['cleantext'] = remove_stop_words(dataset['cleantext'])"
   ]
  },
  {
   "cell_type": "code",
   "execution_count": 41,
   "metadata": {},
   "outputs": [
    {
     "name": "stdout",
     "output_type": "stream",
     "text": [
      " Excellent display performance. It runs fast.\n",
      "excellent display performance runs fast\n"
     ]
    }
   ],
   "source": [
    "print(dataset['Reviews'][10])\n",
    "print(dataset['cleantext'][10])"
   ]
  },
  {
   "cell_type": "code",
   "execution_count": 42,
   "metadata": {},
   "outputs": [],
   "source": [
    "from nltk.stem.porter import PorterStemmer\n",
    "\n",
    "def get_stemmed_text(Corpus):\n",
    "    stemmer = PorterStemmer()\n",
    "    return [' '.join([stemmer.stem(word) for word in Reviews.split()]) for Reviews in Corpus]\n",
    "\n",
    "dataset['text'] = get_stemmed_text(dataset['cleantext'])"
   ]
  },
  {
   "cell_type": "code",
   "execution_count": 43,
   "metadata": {},
   "outputs": [
    {
     "data": {
      "text/html": [
       "<div>\n",
       "<style scoped>\n",
       "    .dataframe tbody tr th:only-of-type {\n",
       "        vertical-align: middle;\n",
       "    }\n",
       "\n",
       "    .dataframe tbody tr th {\n",
       "        vertical-align: top;\n",
       "    }\n",
       "\n",
       "    .dataframe thead th {\n",
       "        text-align: right;\n",
       "    }\n",
       "</style>\n",
       "<table border=\"1\" class=\"dataframe\">\n",
       "  <thead>\n",
       "    <tr style=\"text-align: right;\">\n",
       "      <th></th>\n",
       "      <th>Reviews</th>\n",
       "      <th>Label</th>\n",
       "      <th>cleantext</th>\n",
       "      <th>text</th>\n",
       "    </tr>\n",
       "  </thead>\n",
       "  <tbody>\n",
       "    <tr>\n",
       "      <th>0</th>\n",
       "      <td>build quality towards their performance runnin...</td>\n",
       "      <td>-1</td>\n",
       "      <td>build quality towards performance running slow</td>\n",
       "      <td>build qualiti toward perform run slow</td>\n",
       "    </tr>\n",
       "    <tr>\n",
       "      <th>1</th>\n",
       "      <td>I wouldn't recommend it. the speaker performa...</td>\n",
       "      <td>0</td>\n",
       "      <td>recommend speaker performance normal</td>\n",
       "      <td>recommend speaker perform normal</td>\n",
       "    </tr>\n",
       "    <tr>\n",
       "      <th>2</th>\n",
       "      <td>takes good performance images. I am very happy</td>\n",
       "      <td>1</td>\n",
       "      <td>takes good performance images happy</td>\n",
       "      <td>take good perform imag happi</td>\n",
       "    </tr>\n",
       "    <tr>\n",
       "      <th>3</th>\n",
       "      <td>it can take high performance pictures</td>\n",
       "      <td>1</td>\n",
       "      <td>take high performance pictures</td>\n",
       "      <td>take high perform pictur</td>\n",
       "    </tr>\n",
       "    <tr>\n",
       "      <th>4</th>\n",
       "      <td>it has to do with the high performance</td>\n",
       "      <td>1</td>\n",
       "      <td>high performance</td>\n",
       "      <td>high perform</td>\n",
       "    </tr>\n",
       "  </tbody>\n",
       "</table>\n",
       "</div>"
      ],
      "text/plain": [
       "                                             Reviews  Label  \\\n",
       "0  build quality towards their performance runnin...     -1   \n",
       "1   I wouldn't recommend it. the speaker performa...      0   \n",
       "2     takes good performance images. I am very happy      1   \n",
       "3             it can take high performance pictures       1   \n",
       "4             it has to do with the high performance      1   \n",
       "\n",
       "                                        cleantext  \\\n",
       "0  build quality towards performance running slow   \n",
       "1            recommend speaker performance normal   \n",
       "2             takes good performance images happy   \n",
       "3                  take high performance pictures   \n",
       "4                                high performance   \n",
       "\n",
       "                                    text  \n",
       "0  build qualiti toward perform run slow  \n",
       "1       recommend speaker perform normal  \n",
       "2           take good perform imag happi  \n",
       "3               take high perform pictur  \n",
       "4                           high perform  "
      ]
     },
     "execution_count": 43,
     "metadata": {},
     "output_type": "execute_result"
    }
   ],
   "source": [
    "dataset.head()"
   ]
  },
  {
   "cell_type": "code",
   "execution_count": 44,
   "metadata": {},
   "outputs": [],
   "source": [
    "for name, df in dataset.items():\n",
    "    # Saving to file\n",
    "    df.to_csv('Preprocessed data.csv', index=False)"
   ]
  },
  {
   "cell_type": "code",
   "execution_count": null,
   "metadata": {},
   "outputs": [],
   "source": []
  }
 ],
 "metadata": {
  "kernelspec": {
   "display_name": "Python 3",
   "language": "python",
   "name": "python3"
  },
  "language_info": {
   "codemirror_mode": {
    "name": "ipython",
    "version": 3
   },
   "file_extension": ".py",
   "mimetype": "text/x-python",
   "name": "python",
   "nbconvert_exporter": "python",
   "pygments_lexer": "ipython3",
   "version": "3.8.5"
  }
 },
 "nbformat": 4,
 "nbformat_minor": 4
}
